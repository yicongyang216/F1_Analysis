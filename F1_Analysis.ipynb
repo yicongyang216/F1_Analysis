{
 "cells": [
  {
   "cell_type": "markdown",
   "id": "b9590407",
   "metadata": {},
   "source": [
    "# F1 Qualifying Position vs. Race Finish Position Performance Analysis (2021 - 2024 Season)"
   ]
  },
  {
   "cell_type": "markdown",
   "id": "74deb27b",
   "metadata": {},
   "source": [
    "# Import necessary libraries"
   ]
  },
  {
   "cell_type": "code",
   "execution_count": 5,
   "id": "7ab19717",
   "metadata": {},
   "outputs": [],
   "source": [
    "import pandas as pd\n",
    "import numpy as np\n",
    "import sqlite3\n",
    "import os\n",
    "import glob\n",
    "import requests\n",
    "import matplotlib.pyplot as plt\n",
    "import seaborn as sns\n",
    "from sklearn.model_selection import train_test_split\n",
    "from sklearn.linear_model import LinearRegression\n",
    "from sklearn.metrics import mean_squared_error"
   ]
  },
  {
   "cell_type": "code",
   "execution_count": null,
   "id": "ef934570",
   "metadata": {},
   "outputs": [
    {
     "name": "stdout",
     "output_type": "stream",
     "text": [
      "Loaded circuits into the database.\n",
      "Loaded constructors into the database.\n",
      "Loaded constructor_results into the database.\n",
      "Loaded constructor_standings into the database.\n",
      "Loaded drivers into the database.\n",
      "Loaded driver_standings into the database.\n",
      "Loaded lap_times into the database.\n",
      "Loaded pit_stops into the database.\n",
      "Loaded qualifying into the database.\n",
      "Loaded races into the database.\n",
      "Loaded results into the database.\n",
      "Loaded seasons into the database.\n",
      "Loaded sprint_results into the database.\n",
      "Loaded status into the database.\n"
     ]
    }
   ],
   "source": [
    "csv_folder_path = 'F1dataset' \n",
    "database_path = 'f1_project.db'\n",
    "\n",
    "con = sqlite3.connect(database_path)\n",
    "\n",
    "csv_files = glob.glob(os.path.join(csv_folder_path, '*.csv'))\n",
    "\n",
    "for file in csv_files:\n",
    "    df = pd.read_csv(file)\n",
    "    \n",
    "    table_name = os.path.splitext(os.path.basename(file))[0]\n",
    "    \n",
    "    df.to_sql(table_name, con, if_exists='replace', index=False)\n",
    "    \n",
    "    print(f\"Loaded {table_name} into the database.\")"
   ]
  },
  {
   "cell_type": "markdown",
   "id": "94fdf1f1",
   "metadata": {},
   "source": [
    "# Building the Master F1 Analysis Dataset"
   ]
  },
  {
   "cell_type": "code",
   "execution_count": 33,
   "id": "e2c0c839",
   "metadata": {},
   "outputs": [
    {
     "data": {
      "application/vnd.microsoft.datawrangler.viewer.v0+json": {
       "columns": [
        {
         "name": "index",
         "rawType": "int64",
         "type": "integer"
        },
        {
         "name": "year",
         "rawType": "int64",
         "type": "integer"
        },
        {
         "name": "raceName",
         "rawType": "object",
         "type": "string"
        },
        {
         "name": "driver",
         "rawType": "object",
         "type": "string"
        },
        {
         "name": "constructorName",
         "rawType": "object",
         "type": "string"
        },
        {
         "name": "grid",
         "rawType": "int64",
         "type": "integer"
        },
        {
         "name": "qualifyingPosition",
         "rawType": "int64",
         "type": "integer"
        },
        {
         "name": "racePosition",
         "rawType": "int64",
         "type": "integer"
        },
        {
         "name": "laps",
         "rawType": "int64",
         "type": "integer"
        },
        {
         "name": "status",
         "rawType": "object",
         "type": "string"
        }
       ],
       "ref": "25cad221-2e7a-49d3-879f-adc5246f759d",
       "rows": [
        [
         "0",
         "2021",
         "Qatar Grand Prix",
         "Lewis Hamilton",
         "Mercedes",
         "1",
         "1",
         "1",
         "57",
         "Finished"
        ],
        [
         "1",
         "2021",
         "Qatar Grand Prix",
         "Fernando Alonso",
         "Alpine F1 Team",
         "3",
         "5",
         "3",
         "57",
         "Finished"
        ],
        [
         "2",
         "2021",
         "Qatar Grand Prix",
         "Sergio Pérez",
         "Red Bull",
         "11",
         "11",
         "4",
         "57",
         "Finished"
        ],
        [
         "3",
         "2021",
         "Qatar Grand Prix",
         "Max Verstappen",
         "Red Bull",
         "7",
         "2",
         "2",
         "57",
         "Finished"
        ],
        [
         "4",
         "2021",
         "Qatar Grand Prix",
         "Carlos Sainz",
         "Ferrari",
         "5",
         "7",
         "7",
         "57",
         "Finished"
        ]
       ],
       "shape": {
        "columns": 9,
        "rows": 5
       }
      },
      "text/html": [
       "<div>\n",
       "<style scoped>\n",
       "    .dataframe tbody tr th:only-of-type {\n",
       "        vertical-align: middle;\n",
       "    }\n",
       "\n",
       "    .dataframe tbody tr th {\n",
       "        vertical-align: top;\n",
       "    }\n",
       "\n",
       "    .dataframe thead th {\n",
       "        text-align: right;\n",
       "    }\n",
       "</style>\n",
       "<table border=\"1\" class=\"dataframe\">\n",
       "  <thead>\n",
       "    <tr style=\"text-align: right;\">\n",
       "      <th></th>\n",
       "      <th>year</th>\n",
       "      <th>raceName</th>\n",
       "      <th>driver</th>\n",
       "      <th>constructorName</th>\n",
       "      <th>grid</th>\n",
       "      <th>qualifyingPosition</th>\n",
       "      <th>racePosition</th>\n",
       "      <th>laps</th>\n",
       "      <th>status</th>\n",
       "    </tr>\n",
       "  </thead>\n",
       "  <tbody>\n",
       "    <tr>\n",
       "      <th>0</th>\n",
       "      <td>2021</td>\n",
       "      <td>Qatar Grand Prix</td>\n",
       "      <td>Lewis Hamilton</td>\n",
       "      <td>Mercedes</td>\n",
       "      <td>1</td>\n",
       "      <td>1</td>\n",
       "      <td>1</td>\n",
       "      <td>57</td>\n",
       "      <td>Finished</td>\n",
       "    </tr>\n",
       "    <tr>\n",
       "      <th>1</th>\n",
       "      <td>2021</td>\n",
       "      <td>Qatar Grand Prix</td>\n",
       "      <td>Fernando Alonso</td>\n",
       "      <td>Alpine F1 Team</td>\n",
       "      <td>3</td>\n",
       "      <td>5</td>\n",
       "      <td>3</td>\n",
       "      <td>57</td>\n",
       "      <td>Finished</td>\n",
       "    </tr>\n",
       "    <tr>\n",
       "      <th>2</th>\n",
       "      <td>2021</td>\n",
       "      <td>Qatar Grand Prix</td>\n",
       "      <td>Sergio Pérez</td>\n",
       "      <td>Red Bull</td>\n",
       "      <td>11</td>\n",
       "      <td>11</td>\n",
       "      <td>4</td>\n",
       "      <td>57</td>\n",
       "      <td>Finished</td>\n",
       "    </tr>\n",
       "    <tr>\n",
       "      <th>3</th>\n",
       "      <td>2021</td>\n",
       "      <td>Qatar Grand Prix</td>\n",
       "      <td>Max Verstappen</td>\n",
       "      <td>Red Bull</td>\n",
       "      <td>7</td>\n",
       "      <td>2</td>\n",
       "      <td>2</td>\n",
       "      <td>57</td>\n",
       "      <td>Finished</td>\n",
       "    </tr>\n",
       "    <tr>\n",
       "      <th>4</th>\n",
       "      <td>2021</td>\n",
       "      <td>Qatar Grand Prix</td>\n",
       "      <td>Carlos Sainz</td>\n",
       "      <td>Ferrari</td>\n",
       "      <td>5</td>\n",
       "      <td>7</td>\n",
       "      <td>7</td>\n",
       "      <td>57</td>\n",
       "      <td>Finished</td>\n",
       "    </tr>\n",
       "  </tbody>\n",
       "</table>\n",
       "</div>"
      ],
      "text/plain": [
       "   year          raceName           driver constructorName  grid  \\\n",
       "0  2021  Qatar Grand Prix   Lewis Hamilton        Mercedes     1   \n",
       "1  2021  Qatar Grand Prix  Fernando Alonso  Alpine F1 Team     3   \n",
       "2  2021  Qatar Grand Prix     Sergio Pérez        Red Bull    11   \n",
       "3  2021  Qatar Grand Prix   Max Verstappen        Red Bull     7   \n",
       "4  2021  Qatar Grand Prix     Carlos Sainz         Ferrari     5   \n",
       "\n",
       "   qualifyingPosition  racePosition  laps    status  \n",
       "0                   1             1    57  Finished  \n",
       "1                   5             3    57  Finished  \n",
       "2                  11             4    57  Finished  \n",
       "3                   2             2    57  Finished  \n",
       "4                   7             7    57  Finished  "
      ]
     },
     "execution_count": 33,
     "metadata": {},
     "output_type": "execute_result"
    }
   ],
   "source": [
    "analysis_query = \"\"\"\n",
    "                SELECT rc.year,\n",
    "                rc.name AS raceName,\n",
    "                dv.forename || ' ' || dv.surname AS driver,\n",
    "                cs.name AS constructorName,\n",
    "                re.grid AS grid,\n",
    "                qf.position AS qualifyingPosition,\n",
    "                re.positionOrder AS racePosition,\n",
    "                re.laps AS laps,\n",
    "                st.status AS status\n",
    "                FROM races AS rc\n",
    "                INNER JOIN results AS re ON rc.raceID = re.raceID\n",
    "                INNER JOIN drivers AS dv ON re.driverID = dv.driverID\n",
    "                INNER JOIN constructors AS cs ON re.constructorId = cs.constructorId\n",
    "                INNER JOIN qualifying AS qf ON rc.raceID = qf.raceID AND re.driverID = qf.driverID\n",
    "                INNER JOIN status AS st on re.statusID = st.statusID\n",
    "                WHERE year >= 2021\n",
    "                AND year <= 2024\n",
    "                AND status = 'Finished'\n",
    "                \"\"\"\n",
    "\n",
    "\n",
    "con = sqlite3.connect(\"f1_project.db\")\n",
    "\n",
    "analysis_finished_df = pd.read_sql_query(analysis_query, con)\n",
    "\n",
    "analysis_finished_df.head()"
   ]
  },
  {
   "cell_type": "markdown",
   "id": "5713602b",
   "metadata": {},
   "source": [
    "# Creating visualizations"
   ]
  },
  {
   "cell_type": "code",
   "execution_count": 34,
   "id": "219dd88c",
   "metadata": {},
   "outputs": [
    {
     "data": {
      "image/png": "[encoded data removed]",
      "text/plain": [
       "<Figure size 1000x600 with 1 Axes>"
      ]
     },
     "metadata": {},
     "output_type": "display_data"
    }
   ],
   "source": [
    "plt.figure(figsize=(10, 6))\n",
    "sns.regplot(data=analysis_finished_df, x='grid', y='racePosition')\n",
    "plt.title('Qualifying Position vs. Race Finish Position (2021-2024)')\n",
    "plt.xlabel('Qualifying Position (Grid)')\n",
    "plt.ylabel('Race Position (racePosition)')\n",
    "\n",
    "plt.show()"
   ]
  },
  {
   "cell_type": "markdown",
   "id": "9f43f3ff",
   "metadata": {},
   "source": [
    "The regression plot above visualizes the relationship between a driver's starting grid position and their final race position for the 2021-2024 F1 seasons.\n",
    "\n",
    "The clear upward-sloping trendline shows a strong positive correlation between the two variables. This indicates that, on average, a driver's starting position is a strong predictor of their finishing position."
   ]
  },
  {
   "cell_type": "code",
   "execution_count": null,
   "id": "afbe89a7",
   "metadata": {},
   "outputs": [],
   "source": [
    "analysis_finished_df['position_change'] = analysis_finished_df['grid'] - analysis_finished_df['racePosition']\n",
    "median_change = analysis_finished_df['position_change'].median()\n",
    "\n",
    "plt.figure(figsize=(12, 6))\n",
    "sns.histplot(analysis_finished_df, x = 'position_change', binwidth = 1, kde=True)\n",
    "plt.axvline(0, color='red', linestyle='--', label='No position change')\n",
    "plt.axvline(median_change, color='green', linestyle='--', label=f'Median of position change: {median_change:.2f}')\n",
    "plt.legend()\n",
    "\n",
    "plt.title('Distribution of Race Finish Positions Changes (2021-2024)')\n",
    "plt.xlabel('Position Gain or Lost (grid - racePosition)')\n",
    "plt.ylabel('Count of Occurrences')\n",
    "\n",
    "plt.show()"
   ]
  },
  {
   "cell_type": "markdown",
   "id": "f348a9ef",
   "metadata": {},
   "source": [
    "The histogram central peak is at the range [0,1], indicating that most common outcome is drivers finishing their race in or very near their starting grid position.\n",
    "\n",
    "Also, from the distribution, we can see that large position changes (gain or lose position over 10), are rarely happened.\n",
    "\n",
    "The median of the distribution is 1.0. A positive median suggests that drivers are more likely to gain position rather than lose position."
   ]
  },
  {
   "cell_type": "code",
   "execution_count": null,
   "id": "9708a09f",
   "metadata": {},
   "outputs": [],
   "source": [
    "driver_performance = analysis_finished_df.groupby('driver')['position_change'].mean().sort_values(ascending=False).reset_index()\n",
    "\n",
    "plt.figure(figsize=(12, 10))\n",
    "sns.barplot(data=driver_performance, x='position_change', y='driver', orient='h')\n",
    "\n",
    "plt.title('Average Position Change by Driver (2021-2024)')\n",
    "plt.xlabel('Average Position Change (grid - racePosition)')\n",
    "plt.ylabel('Driver')\n",
    "\n",
    "plt.show()"
   ]
  },
  {
   "cell_type": "code",
   "execution_count": null,
   "id": "0d885d48",
   "metadata": {},
   "outputs": [],
   "source": [
    "accident_statuses = ['Collision', 'Accident', 'Spun off']\n",
    "accident_incidents = analysis_df[analysis_df['status'].isin(accident_statuses)]\n",
    "accident_counts = accident_incidents['driver'].value_counts().reset_index()\n",
    "accident_counts.columns = ['driver', 'numberOfAccidents']\n",
    "\n",
    "plt.figure(figsize=(12, 10))\n",
    "sns.barplot(data=accident_counts, x='numberOfAccidents', y='driver', orient='h')\n",
    "\n",
    "plt.title('Drivers with Most Incidents (Collision, Accident, Spun Off) in 2021-2024')\n",
    "plt.xlabel('Number of Incidents')\n",
    "plt.ylabel('Driver')\n",
    "\n",
    "plt.show()"
   ]
  },
  {
   "cell_type": "code",
   "execution_count": null,
   "id": "b885dab0",
   "metadata": {},
   "outputs": [],
   "source": [
    "circuit_get_most_accidents = accident_incidents['raceName'].value_counts().reset_index()\n",
    "circuit_get_most_accidents.columns = ['raceName', 'numberOfAccidents']\n",
    "circuit_get_most_accidents = circuit_get_most_accidents.sort_values(by='numberOfAccidents', ascending=False)\n",
    "\n",
    "plt.figure(figsize=(12, 10))\n",
    "sns.barplot(data=circuit_get_most_accidents, x='numberOfAccidents', y='raceName', orient='h')\n",
    "\n",
    "plt.title('Circuits with Most Incidents (Collision, Accident, Spun Off) in 2021-2024')\n",
    "plt.xlabel('Number of Incidents')\n",
    "plt.ylabel('Circuit (raceName)')\n",
    "\n",
    "plt.show()"
   ]
  },
  {
   "cell_type": "code",
   "execution_count": null,
   "id": "9a6ba3b4",
   "metadata": {},
   "outputs": [],
   "source": [
    "circuit_get_most_positions = analysis_finished_df.groupby('raceName')['position_change'].mean()\n",
    "circuit_get_most_positions = circuit_get_most_positions.sort_values(ascending=False)\n",
    "circuit_get_most_positions = circuit_get_most_positions.reset_index()\n",
    "\n",
    "plt.figure(figsize=(12, 10))\n",
    "sns.barplot(data=circuit_get_most_positions, x='position_change', y='raceName', orient='h')\n",
    "\n",
    "plt.title('Average Position Change by Circuit (2021-2024)')\n",
    "plt.xlabel('Average Position Change (grid - racePosition)')\n",
    "plt.ylabel('Circuit Name')\n",
    "\n",
    "plt.show()"
   ]
  },
  {
   "cell_type": "markdown",
   "id": "6c932736",
   "metadata": {},
   "source": [
    "Next, I want to investgate \"why\", and answer the questions below:\n",
    "\n",
    "1. Circuit Type: Does the type of circuit (e.g., a high-speed circuit like Monza vs. a low-speed circuit like Monaco) have a significant impact on overall position changes?\n",
    "\n",
    "2. Race Chaos: Do races with more incidents (collisions, accidents, spins) show a wider distribution of position changes?"
   ]
  },
  {
   "cell_type": "code",
   "execution_count": null,
   "id": "e626e26c",
   "metadata": {},
   "outputs": [],
   "source": [
    "circuit_map = {'Australian Grand Prix': 'High Speed',\n",
    "    'Italian Grand Prix': 'High Speed',\n",
    "    'Styrian Grand Prix': 'High Speed',\n",
    "    'Bahrain Grand Prix': 'Medium Speed',\n",
    "    'Japanese Grand Prix': 'High Speed',\n",
    "    'Abu Dhabi Grand Prix': 'Low Speed',\n",
    "    'Chinese Grand Prix': 'Medium Speed',\n",
    "    'Saudi Arabian Grand Prix': 'High Speed',\n",
    "    'Monaco Grand Prix': 'Low Speed',\n",
    "    'São Paulo Grand Prix': 'Low Speed',\n",
    "    'British Grand Prix': 'High Speed',\n",
    "    'Emilia Romagna Grand Prix': 'Medium Speed',\n",
    "    'Hungarian Grand Prix': 'Low Speed',\n",
    "    'Mexico City Grand Prix': 'Low Speed',\n",
    "    'Qatar Grand Prix': 'Medium Speed',\n",
    "    'United States Grand Prix': 'Medium Speed',\n",
    "    'Singapore Grand Prix': 'Low Speed',\n",
    "    'Azerbaijan Grand Prix': 'Medium Speed',\n",
    "    'Canadian Grand Prix': 'Medium Speed',\n",
    "    'Miami Grand Prix': 'Medium Speed',\n",
    "    'Portuguese Grand Prix': 'Medium Speed',\n",
    "    'Las Vegas Grand Prix': 'Medium Speed',\n",
    "    'French Grand Prix': 'Medium Speed',\n",
    "    'Austrian Grand Prix': 'High Speed',\n",
    "    'Spanish Grand Prix': 'Medium Speed',\n",
    "    'Turkish Grand Prix': 'Medium Speed',\n",
    "    'Belgian Grand Prix': 'High Speed',\n",
    "    'Dutch Grand Prix': 'Low Speed'\n",
    "}\n",
    "\n",
    "analysis_finished_df['circuitType'] = analysis_finished_df['raceName'].map(circuit_map)\n",
    "circuit_type_performance = analysis_finished_df.groupby('circuitType')['position_change'].mean().sort_values(ascending=False).reset_index()\n",
    "\n",
    "plt.figure(figsize=(8, 6))\n",
    "sns.barplot(data=circuit_type_performance, x='position_change', y='circuitType', orient='h')\n",
    "\n",
    "plt.title('Average Position Change by Circuit Type (2021-2024)')\n",
    "plt.xlabel('Average Position Change (grid - racePosition)')\n",
    "plt.ylabel('Circuit Type')\n",
    "\n",
    "plt.show()"
   ]
  },
  {
   "cell_type": "markdown",
   "id": "ea293862",
   "metadata": {},
   "source": [
    "High Speed circuits yield the highest position gain(~0.75);  Low Speed circuits also show high gain(~0.6); Medium Speed circuits show the lowest gain (~0.49)."
   ]
  }
 ],
 "metadata": {
  "kernelspec": {
   "display_name": "Python 3",
   "language": "python",
   "name": "python3"
  },
  "language_info": {
   "codemirror_mode": {
    "name": "ipython",
    "version": 3
   },
   "file_extension": ".py",
   "mimetype": "text/x-python",
   "name": "python",
   "nbconvert_exporter": "python",
   "pygments_lexer": "ipython3",
   "version": "3.11.9"
  }
 },
 "nbformat": 4,
 "nbformat_minor": 5
}
