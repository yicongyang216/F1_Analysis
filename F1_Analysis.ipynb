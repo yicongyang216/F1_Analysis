{
 "cells": [
  {
   "cell_type": "markdown",
   "id": "b9590407",
   "metadata": {},
   "source": [
    "# F1 Qualifying Position vs. Race Finish Position Performance Analysis (2021 - 2024 Season)"
   ]
  },
  {
   "cell_type": "markdown",
   "id": "74deb27b",
   "metadata": {},
   "source": [
    "# Import necessary libraries"
   ]
  },
  {
   "cell_type": "code",
   "execution_count": 5,
   "id": "7ab19717",
   "metadata": {},
   "outputs": [],
   "source": [
    "import pandas as pd\n",
    "import numpy as np\n",
    "import sqlite3\n",
    "import os\n",
    "import glob\n",
    "import requests\n",
    "import matplotlib.pyplot as plt\n",
    "import seaborn as sns\n",
    "from sklearn.model_selection import train_test_split\n",
    "from sklearn.linear_model import LinearRegression\n",
    "from sklearn.metrics import mean_squared_error"
   ]
  },
  {
   "cell_type": "code",
   "execution_count": null,
   "id": "ef934570",
   "metadata": {},
   "outputs": [
    {
     "name": "stdout",
     "output_type": "stream",
     "text": [
      "Loaded circuits into the database.\n",
      "Loaded constructors into the database.\n",
      "Loaded constructor_results into the database.\n",
      "Loaded constructor_standings into the database.\n",
      "Loaded drivers into the database.\n",
      "Loaded driver_standings into the database.\n",
      "Loaded lap_times into the database.\n",
      "Loaded pit_stops into the database.\n",
      "Loaded qualifying into the database.\n",
      "Loaded races into the database.\n",
      "Loaded results into the database.\n",
      "Loaded seasons into the database.\n",
      "Loaded sprint_results into the database.\n",
      "Loaded status into the database.\n"
     ]
    }
   ],
   "source": [
    "csv_folder_path = 'F1dataset' \n",
    "database_path = 'f1_project.db'\n",
    "\n",
    "con = sqlite3.connect(database_path)\n",
    "\n",
    "csv_files = glob.glob(os.path.join(csv_folder_path, '*.csv'))\n",
    "\n",
    "for file in csv_files:\n",
    "    df = pd.read_csv(file)\n",
    "    \n",
    "    table_name = os.path.splitext(os.path.basename(file))[0]\n",
    "    \n",
    "    df.to_sql(table_name, con, if_exists='replace', index=False)\n",
    "    \n",
    "    print(f\"Loaded {table_name} into the database.\")"
   ]
  },
  {
   "cell_type": "markdown",
   "id": "94fdf1f1",
   "metadata": {},
   "source": [
    "# Load data from Kaggle CSV files"
   ]
  },
  {
   "cell_type": "code",
   "execution_count": null,
   "id": "e2c0c839",
   "metadata": {},
   "outputs": [
    {
     "data": {
      "application/vnd.microsoft.datawrangler.viewer.v0+json": {
       "columns": [
        {
         "name": "index",
         "rawType": "int64",
         "type": "integer"
        },
        {
         "name": "raceId",
         "rawType": "int64",
         "type": "integer"
        },
        {
         "name": "year",
         "rawType": "int64",
         "type": "integer"
        },
        {
         "name": "round",
         "rawType": "int64",
         "type": "integer"
        },
        {
         "name": "circuitId",
         "rawType": "int64",
         "type": "integer"
        },
        {
         "name": "name",
         "rawType": "object",
         "type": "string"
        },
        {
         "name": "date",
         "rawType": "object",
         "type": "string"
        },
        {
         "name": "time",
         "rawType": "object",
         "type": "string"
        },
        {
         "name": "url",
         "rawType": "object",
         "type": "string"
        },
        {
         "name": "fp1_date",
         "rawType": "object",
         "type": "string"
        },
        {
         "name": "fp1_time",
         "rawType": "object",
         "type": "string"
        },
        {
         "name": "fp2_date",
         "rawType": "object",
         "type": "string"
        },
        {
         "name": "fp2_time",
         "rawType": "object",
         "type": "string"
        },
        {
         "name": "fp3_date",
         "rawType": "object",
         "type": "string"
        },
        {
         "name": "fp3_time",
         "rawType": "object",
         "type": "string"
        },
        {
         "name": "quali_date",
         "rawType": "object",
         "type": "string"
        },
        {
         "name": "quali_time",
         "rawType": "object",
         "type": "string"
        },
        {
         "name": "sprint_date",
         "rawType": "object",
         "type": "string"
        },
        {
         "name": "sprint_time",
         "rawType": "object",
         "type": "string"
        },
        {
         "name": "resultId",
         "rawType": "int64",
         "type": "integer"
        },
        {
         "name": "raceId",
         "rawType": "int64",
         "type": "integer"
        },
        {
         "name": "driverId",
         "rawType": "int64",
         "type": "integer"
        },
        {
         "name": "constructorId",
         "rawType": "int64",
         "type": "integer"
        },
        {
         "name": "number",
         "rawType": "object",
         "type": "string"
        },
        {
         "name": "grid",
         "rawType": "int64",
         "type": "integer"
        },
        {
         "name": "position",
         "rawType": "object",
         "type": "string"
        },
        {
         "name": "positionText",
         "rawType": "object",
         "type": "string"
        },
        {
         "name": "positionOrder",
         "rawType": "int64",
         "type": "integer"
        },
        {
         "name": "points",
         "rawType": "float64",
         "type": "float"
        },
        {
         "name": "laps",
         "rawType": "int64",
         "type": "integer"
        },
        {
         "name": "time",
         "rawType": "object",
         "type": "string"
        },
        {
         "name": "milliseconds",
         "rawType": "object",
         "type": "string"
        },
        {
         "name": "fastestLap",
         "rawType": "object",
         "type": "string"
        },
        {
         "name": "rank",
         "rawType": "object",
         "type": "string"
        },
        {
         "name": "fastestLapTime",
         "rawType": "object",
         "type": "string"
        },
        {
         "name": "fastestLapSpeed",
         "rawType": "object",
         "type": "string"
        },
        {
         "name": "statusId",
         "rawType": "int64",
         "type": "integer"
        },
        {
         "name": "driverId",
         "rawType": "int64",
         "type": "integer"
        },
        {
         "name": "driverRef",
         "rawType": "object",
         "type": "string"
        },
        {
         "name": "number",
         "rawType": "object",
         "type": "string"
        },
        {
         "name": "code",
         "rawType": "object",
         "type": "string"
        },
        {
         "name": "forename",
         "rawType": "object",
         "type": "string"
        },
        {
         "name": "surname",
         "rawType": "object",
         "type": "string"
        },
        {
         "name": "dob",
         "rawType": "object",
         "type": "string"
        },
        {
         "name": "nationality",
         "rawType": "object",
         "type": "string"
        },
        {
         "name": "url",
         "rawType": "object",
         "type": "string"
        },
        {
         "name": "constructorId",
         "rawType": "int64",
         "type": "integer"
        },
        {
         "name": "constructorRef",
         "rawType": "object",
         "type": "string"
        },
        {
         "name": "name",
         "rawType": "object",
         "type": "string"
        },
        {
         "name": "nationality",
         "rawType": "object",
         "type": "string"
        },
        {
         "name": "url",
         "rawType": "object",
         "type": "string"
        },
        {
         "name": "qualifyId",
         "rawType": "int64",
         "type": "integer"
        },
        {
         "name": "raceId",
         "rawType": "int64",
         "type": "integer"
        },
        {
         "name": "driverId",
         "rawType": "int64",
         "type": "integer"
        },
        {
         "name": "constructorId",
         "rawType": "int64",
         "type": "integer"
        },
        {
         "name": "number",
         "rawType": "int64",
         "type": "integer"
        },
        {
         "name": "position",
         "rawType": "int64",
         "type": "integer"
        },
        {
         "name": "q1",
         "rawType": "object",
         "type": "string"
        },
        {
         "name": "q2",
         "rawType": "object",
         "type": "string"
        },
        {
         "name": "q3",
         "rawType": "object",
         "type": "string"
        },
        {
         "name": "statusId",
         "rawType": "int64",
         "type": "integer"
        },
        {
         "name": "status",
         "rawType": "object",
         "type": "string"
        }
       ],
       "ref": "a9a67ab5-6530-4a58-af4a-e7f283ba9c94",
       "rows": [
        [
         "0",
         "1052",
         "2021",
         "1",
         "3",
         "Bahrain Grand Prix",
         "2021-03-28",
         "15:00:00",
         "http://en.wikipedia.org/wiki/2021_Bahrain_Grand_Prix",
         "2021-03-26",
         "\\N",
         "2021-03-26",
         "\\N",
         "2021-03-27",
         "\\N",
         "2021-03-27",
         "\\N",
         "\\N",
         "\\N",
         "24966",
         "1052",
         "1",
         "131",
         "44",
         "2",
         "1",
         "1",
         "1",
         "25.0",
         "56",
         "1:32:03.897",
         "5523897",
         "44",
         "4",
         "1:34.015",
         "207.235",
         "1",
         "1",
         "hamilton",
         "44",
         "HAM",
         "Lewis",
         "Hamilton",
         "1985-01-07",
         "British",
         "http://en.wikipedia.org/wiki/Lewis_Hamilton",
         "131",
         "mercedes",
         "Mercedes",
         "German",
         "http://en.wikipedia.org/wiki/Mercedes-Benz_in_Formula_One",
         "8736",
         "1052",
         "1",
         "131",
         "44",
         "2",
         "1:30.617",
         "1:30.085",
         "1:29.385",
         "1",
         "Finished"
        ],
        [
         "1",
         "1052",
         "2021",
         "1",
         "3",
         "Bahrain Grand Prix",
         "2021-03-28",
         "15:00:00",
         "http://en.wikipedia.org/wiki/2021_Bahrain_Grand_Prix",
         "2021-03-26",
         "\\N",
         "2021-03-26",
         "\\N",
         "2021-03-27",
         "\\N",
         "2021-03-27",
         "\\N",
         "\\N",
         "\\N",
         "24967",
         "1052",
         "830",
         "9",
         "33",
         "1",
         "2",
         "2",
         "2",
         "18.0",
         "56",
         "+0.745",
         "5524642",
         "41",
         "2",
         "1:33.228",
         "208.984",
         "1",
         "830",
         "max_verstappen",
         "33",
         "VER",
         "Max",
         "Verstappen",
         "1997-09-30",
         "Dutch",
         "http://en.wikipedia.org/wiki/Max_Verstappen",
         "9",
         "red_bull",
         "Red Bull",
         "Austrian",
         "http://en.wikipedia.org/wiki/Red_Bull_Racing",
         "8735",
         "1052",
         "830",
         "9",
         "33",
         "1",
         "1:30.499",
         "1:30.318",
         "1:28.997",
         "1",
         "Finished"
        ],
        [
         "2",
         "1052",
         "2021",
         "1",
         "3",
         "Bahrain Grand Prix",
         "2021-03-28",
         "15:00:00",
         "http://en.wikipedia.org/wiki/2021_Bahrain_Grand_Prix",
         "2021-03-26",
         "\\N",
         "2021-03-26",
         "\\N",
         "2021-03-27",
         "\\N",
         "2021-03-27",
         "\\N",
         "\\N",
         "\\N",
         "24968",
         "1052",
         "822",
         "131",
         "77",
         "3",
         "3",
         "3",
         "3",
         "16.0",
         "56",
         "+37.383",
         "5561280",
         "56",
         "1",
         "1:32.090",
         "211.566",
         "1",
         "822",
         "bottas",
         "77",
         "BOT",
         "Valtteri",
         "Bottas",
         "1989-08-28",
         "Finnish",
         "http://en.wikipedia.org/wiki/Valtteri_Bottas",
         "131",
         "mercedes",
         "Mercedes",
         "German",
         "http://en.wikipedia.org/wiki/Mercedes-Benz_in_Formula_One",
         "8737",
         "1052",
         "822",
         "131",
         "77",
         "3",
         "1:31.200",
         "1:30.186",
         "1:29.586",
         "1",
         "Finished"
        ],
        [
         "3",
         "1052",
         "2021",
         "1",
         "3",
         "Bahrain Grand Prix",
         "2021-03-28",
         "15:00:00",
         "http://en.wikipedia.org/wiki/2021_Bahrain_Grand_Prix",
         "2021-03-26",
         "\\N",
         "2021-03-26",
         "\\N",
         "2021-03-27",
         "\\N",
         "2021-03-27",
         "\\N",
         "\\N",
         "\\N",
         "24969",
         "1052",
         "846",
         "1",
         "4",
         "7",
         "4",
         "4",
         "4",
         "12.0",
         "56",
         "+46.466",
         "5570363",
         "38",
         "6",
         "1:34.396",
         "206.398",
         "1",
         "846",
         "norris",
         "4",
         "NOR",
         "Lando",
         "Norris",
         "1999-11-13",
         "British",
         "http://en.wikipedia.org/wiki/Lando_Norris",
         "1",
         "mclaren",
         "McLaren",
         "British",
         "http://en.wikipedia.org/wiki/McLaren",
         "8741",
         "1052",
         "846",
         "1",
         "4",
         "7",
         "1:30.902",
         "1:30.099",
         "1:29.974",
         "1",
         "Finished"
        ],
        [
         "4",
         "1052",
         "2021",
         "1",
         "3",
         "Bahrain Grand Prix",
         "2021-03-28",
         "15:00:00",
         "http://en.wikipedia.org/wiki/2021_Bahrain_Grand_Prix",
         "2021-03-26",
         "\\N",
         "2021-03-26",
         "\\N",
         "2021-03-27",
         "\\N",
         "2021-03-27",
         "\\N",
         "\\N",
         "\\N",
         "24970",
         "1052",
         "815",
         "9",
         "11",
         "0",
         "5",
         "5",
         "5",
         "10.0",
         "56",
         "+52.047",
         "5575944",
         "44",
         "3",
         "1:33.970",
         "207.334",
         "1",
         "815",
         "perez",
         "11",
         "PER",
         "Sergio",
         "Pérez",
         "1990-01-26",
         "Mexican",
         "http://en.wikipedia.org/wiki/Sergio_P%C3%A9rez",
         "9",
         "red_bull",
         "Red Bull",
         "Austrian",
         "http://en.wikipedia.org/wiki/Red_Bull_Racing",
         "8745",
         "1052",
         "815",
         "9",
         "11",
         "11",
         "1:31.165",
         "1:30.659",
         "\\N",
         "1",
         "Finished"
        ]
       ],
       "shape": {
        "columns": 61,
        "rows": 5
       }
      },
      "text/html": [
       "<div>\n",
       "<style scoped>\n",
       "    .dataframe tbody tr th:only-of-type {\n",
       "        vertical-align: middle;\n",
       "    }\n",
       "\n",
       "    .dataframe tbody tr th {\n",
       "        vertical-align: top;\n",
       "    }\n",
       "\n",
       "    .dataframe thead th {\n",
       "        text-align: right;\n",
       "    }\n",
       "</style>\n",
       "<table border=\"1\" class=\"dataframe\">\n",
       "  <thead>\n",
       "    <tr style=\"text-align: right;\">\n",
       "      <th></th>\n",
       "      <th>raceId</th>\n",
       "      <th>year</th>\n",
       "      <th>round</th>\n",
       "      <th>circuitId</th>\n",
       "      <th>name</th>\n",
       "      <th>date</th>\n",
       "      <th>time</th>\n",
       "      <th>url</th>\n",
       "      <th>fp1_date</th>\n",
       "      <th>fp1_time</th>\n",
       "      <th>...</th>\n",
       "      <th>raceId</th>\n",
       "      <th>driverId</th>\n",
       "      <th>constructorId</th>\n",
       "      <th>number</th>\n",
       "      <th>position</th>\n",
       "      <th>q1</th>\n",
       "      <th>q2</th>\n",
       "      <th>q3</th>\n",
       "      <th>statusId</th>\n",
       "      <th>status</th>\n",
       "    </tr>\n",
       "  </thead>\n",
       "  <tbody>\n",
       "    <tr>\n",
       "      <th>0</th>\n",
       "      <td>1052</td>\n",
       "      <td>2021</td>\n",
       "      <td>1</td>\n",
       "      <td>3</td>\n",
       "      <td>Bahrain Grand Prix</td>\n",
       "      <td>2021-03-28</td>\n",
       "      <td>15:00:00</td>\n",
       "      <td>http://en.wikipedia.org/wiki/2021_Bahrain_Gran...</td>\n",
       "      <td>2021-03-26</td>\n",
       "      <td>\\N</td>\n",
       "      <td>...</td>\n",
       "      <td>1052</td>\n",
       "      <td>1</td>\n",
       "      <td>131</td>\n",
       "      <td>44</td>\n",
       "      <td>2</td>\n",
       "      <td>1:30.617</td>\n",
       "      <td>1:30.085</td>\n",
       "      <td>1:29.385</td>\n",
       "      <td>1</td>\n",
       "      <td>Finished</td>\n",
       "    </tr>\n",
       "    <tr>\n",
       "      <th>1</th>\n",
       "      <td>1052</td>\n",
       "      <td>2021</td>\n",
       "      <td>1</td>\n",
       "      <td>3</td>\n",
       "      <td>Bahrain Grand Prix</td>\n",
       "      <td>2021-03-28</td>\n",
       "      <td>15:00:00</td>\n",
       "      <td>http://en.wikipedia.org/wiki/2021_Bahrain_Gran...</td>\n",
       "      <td>2021-03-26</td>\n",
       "      <td>\\N</td>\n",
       "      <td>...</td>\n",
       "      <td>1052</td>\n",
       "      <td>830</td>\n",
       "      <td>9</td>\n",
       "      <td>33</td>\n",
       "      <td>1</td>\n",
       "      <td>1:30.499</td>\n",
       "      <td>1:30.318</td>\n",
       "      <td>1:28.997</td>\n",
       "      <td>1</td>\n",
       "      <td>Finished</td>\n",
       "    </tr>\n",
       "    <tr>\n",
       "      <th>2</th>\n",
       "      <td>1052</td>\n",
       "      <td>2021</td>\n",
       "      <td>1</td>\n",
       "      <td>3</td>\n",
       "      <td>Bahrain Grand Prix</td>\n",
       "      <td>2021-03-28</td>\n",
       "      <td>15:00:00</td>\n",
       "      <td>http://en.wikipedia.org/wiki/2021_Bahrain_Gran...</td>\n",
       "      <td>2021-03-26</td>\n",
       "      <td>\\N</td>\n",
       "      <td>...</td>\n",
       "      <td>1052</td>\n",
       "      <td>822</td>\n",
       "      <td>131</td>\n",
       "      <td>77</td>\n",
       "      <td>3</td>\n",
       "      <td>1:31.200</td>\n",
       "      <td>1:30.186</td>\n",
       "      <td>1:29.586</td>\n",
       "      <td>1</td>\n",
       "      <td>Finished</td>\n",
       "    </tr>\n",
       "    <tr>\n",
       "      <th>3</th>\n",
       "      <td>1052</td>\n",
       "      <td>2021</td>\n",
       "      <td>1</td>\n",
       "      <td>3</td>\n",
       "      <td>Bahrain Grand Prix</td>\n",
       "      <td>2021-03-28</td>\n",
       "      <td>15:00:00</td>\n",
       "      <td>http://en.wikipedia.org/wiki/2021_Bahrain_Gran...</td>\n",
       "      <td>2021-03-26</td>\n",
       "      <td>\\N</td>\n",
       "      <td>...</td>\n",
       "      <td>1052</td>\n",
       "      <td>846</td>\n",
       "      <td>1</td>\n",
       "      <td>4</td>\n",
       "      <td>7</td>\n",
       "      <td>1:30.902</td>\n",
       "      <td>1:30.099</td>\n",
       "      <td>1:29.974</td>\n",
       "      <td>1</td>\n",
       "      <td>Finished</td>\n",
       "    </tr>\n",
       "    <tr>\n",
       "      <th>4</th>\n",
       "      <td>1052</td>\n",
       "      <td>2021</td>\n",
       "      <td>1</td>\n",
       "      <td>3</td>\n",
       "      <td>Bahrain Grand Prix</td>\n",
       "      <td>2021-03-28</td>\n",
       "      <td>15:00:00</td>\n",
       "      <td>http://en.wikipedia.org/wiki/2021_Bahrain_Gran...</td>\n",
       "      <td>2021-03-26</td>\n",
       "      <td>\\N</td>\n",
       "      <td>...</td>\n",
       "      <td>1052</td>\n",
       "      <td>815</td>\n",
       "      <td>9</td>\n",
       "      <td>11</td>\n",
       "      <td>11</td>\n",
       "      <td>1:31.165</td>\n",
       "      <td>1:30.659</td>\n",
       "      <td>\\N</td>\n",
       "      <td>1</td>\n",
       "      <td>Finished</td>\n",
       "    </tr>\n",
       "  </tbody>\n",
       "</table>\n",
       "<p>5 rows × 61 columns</p>\n",
       "</div>"
      ],
      "text/plain": [
       "  raceId  year  round  circuitId                name        date      time  \\\n",
       "0   1052  2021      1          3  Bahrain Grand Prix  2021-03-28  15:00:00   \n",
       "1   1052  2021      1          3  Bahrain Grand Prix  2021-03-28  15:00:00   \n",
       "2   1052  2021      1          3  Bahrain Grand Prix  2021-03-28  15:00:00   \n",
       "3   1052  2021      1          3  Bahrain Grand Prix  2021-03-28  15:00:00   \n",
       "4   1052  2021      1          3  Bahrain Grand Prix  2021-03-28  15:00:00   \n",
       "\n",
       "                                                 url    fp1_date fp1_time  \\\n",
       "0  http://en.wikipedia.org/wiki/2021_Bahrain_Gran...  2021-03-26       \\N   \n",
       "1  http://en.wikipedia.org/wiki/2021_Bahrain_Gran...  2021-03-26       \\N   \n",
       "2  http://en.wikipedia.org/wiki/2021_Bahrain_Gran...  2021-03-26       \\N   \n",
       "3  http://en.wikipedia.org/wiki/2021_Bahrain_Gran...  2021-03-26       \\N   \n",
       "4  http://en.wikipedia.org/wiki/2021_Bahrain_Gran...  2021-03-26       \\N   \n",
       "\n",
       "   ... raceId driverId constructorId number position        q1        q2  \\\n",
       "0  ...   1052        1           131     44        2  1:30.617  1:30.085   \n",
       "1  ...   1052      830             9     33        1  1:30.499  1:30.318   \n",
       "2  ...   1052      822           131     77        3  1:31.200  1:30.186   \n",
       "3  ...   1052      846             1      4        7  1:30.902  1:30.099   \n",
       "4  ...   1052      815             9     11       11  1:31.165  1:30.659   \n",
       "\n",
       "         q3  statusId    status  \n",
       "0  1:29.385         1  Finished  \n",
       "1  1:28.997         1  Finished  \n",
       "2  1:29.586         1  Finished  \n",
       "3  1:29.974         1  Finished  \n",
       "4        \\N         1  Finished  \n",
       "\n",
       "[5 rows x 61 columns]"
      ]
     },
     "execution_count": 16,
     "metadata": {},
     "output_type": "execute_result"
    }
   ],
   "source": [
    "analysis_query = \"\"\"\n",
    "                SELECT *\n",
    "                FROM races AS rc\n",
    "                INNER JOIN results AS re ON rc.raceID = re.raceID\n",
    "                INNER JOIN drivers AS dv ON re.driverID = dv.driverID\n",
    "                INNER JOIN constructors AS cs ON re.constructorId = cs.constructorId\n",
    "                INNER JOIN qualifying AS qf ON rc.raceID = qf.raceID AND re.driverID = qf.driverID\n",
    "                INNER JOIN status AS st on re.statusID = st.statusID\n",
    "                WHERE year >= 2021\n",
    "                AND year <= 2024\n",
    "                AND status = 'Finished'\n",
    "                \"\"\"\n",
    "\n",
    "\n",
    "con = sqlite3.connect(\"f1_project.db\")\n",
    "\n",
    "analysis_df = pd.read_sql_query(analysis_query, con)\n",
    "\n",
    "analysis_df.head()"
   ]
  },
  {
   "cell_type": "markdown",
   "id": "71adff8b",
   "metadata": {},
   "source": [
    "# Merge the dataframes"
   ]
  },
  {
   "cell_type": "code",
   "execution_count": null,
   "id": "c3499302",
   "metadata": {},
   "outputs": [],
   "source": [
    "df = pd.merge(races_df, results_df, on='raceId')\n",
    "df = pd.merge(df, drivers_df, on='driverId')\n",
    "df = pd.merge(df, constructors_df, on='constructorId')\n",
    "df = pd.merge(df, qualifying_df, on=['raceId', 'driverId'])\n",
    "df = pd.merge(df, status_df, on='statusId')\n",
    "\n",
    "\n",
    "df['driver'] = df['forename'] + ' ' + df['surname']"
   ]
  },
  {
   "cell_type": "markdown",
   "id": "d568851c",
   "metadata": {},
   "source": [
    "# Clean and prepare data"
   ]
  },
  {
   "cell_type": "code",
   "execution_count": null,
   "id": "8c7825c6",
   "metadata": {},
   "outputs": [],
   "source": [
    "analysis_df = df[df['year'] >= 2021].copy()\n",
    "analysis_df.rename(columns = {\n",
    "    'name_x': 'raceName',\n",
    "    'name_y': 'constructorName',\n",
    "    'position_x': 'racePosition',\n",
    "    'position_y': 'qualifyingPosition',\n",
    "}, inplace=True)\n",
    "\n",
    "columns_to_keep = [\n",
    "    'year',\n",
    "    'raceName',\n",
    "    'driver',\n",
    "    'constructorName',\n",
    "    'grid',\n",
    "    'qualifyingPosition', \n",
    "    'racePosition',\n",
    "    'points',\n",
    "    'laps',\n",
    "    'status'\n",
    "]\n",
    "\n",
    "analysis_df = analysis_df[columns_to_keep]\n",
    "\n",
    "# Filter to only include drivers who finished the race.\n",
    "finished_statuses = ['Finished', '+1 Lap', '+2 Laps', '+3 Laps', '+4 Laps']\n",
    "analysis_finished_df = analysis_df[analysis_df['status'].isin(finished_statuses)].copy()\n",
    "\n",
    "analysis_finished_df['racePosition'] = pd.to_numeric(analysis_finished_df['racePosition'], errors='coerce')\n",
    "analysis_finished_df['grid'] = pd.to_numeric(analysis_finished_df['grid'], errors='coerce')\n"
   ]
  },
  {
   "cell_type": "markdown",
   "id": "5713602b",
   "metadata": {},
   "source": [
    "# Creating visualizations"
   ]
  },
  {
   "cell_type": "code",
   "execution_count": null,
   "id": "219dd88c",
   "metadata": {},
   "outputs": [],
   "source": [
    "plt.figure(figsize=(10, 6))\n",
    "sns.regplot(data=analysis_finished_df, x='grid', y='racePosition')\n",
    "plt.title('Qualifying Position vs. Race Finish Position (2021-2024)')\n",
    "plt.xlabel('Qualifying Position (Grid)')\n",
    "plt.ylabel('Race Position (racePosition)')\n",
    "\n",
    "plt.show()"
   ]
  },
  {
   "cell_type": "markdown",
   "id": "9f43f3ff",
   "metadata": {},
   "source": [
    "The regression plot above visualizes the relationship between a driver's starting grid position and their final race position for the 2021-2024 F1 seasons.\n",
    "\n",
    "The clear upward-sloping trendline shows a strong positive correlation between the two variables. This indicates that, on average, a driver's starting position is a strong predictor of their finishing position."
   ]
  },
  {
   "cell_type": "code",
   "execution_count": null,
   "id": "afbe89a7",
   "metadata": {},
   "outputs": [],
   "source": [
    "analysis_finished_df['position_change'] = analysis_finished_df['grid'] - analysis_finished_df['racePosition']\n",
    "median_change = analysis_finished_df['position_change'].median()\n",
    "\n",
    "plt.figure(figsize=(12, 6))\n",
    "sns.histplot(analysis_finished_df, x = 'position_change', binwidth = 1, kde=True)\n",
    "plt.axvline(0, color='red', linestyle='--', label='No position change')\n",
    "plt.axvline(median_change, color='green', linestyle='--', label=f'Median of position change: {median_change:.2f}')\n",
    "plt.legend()\n",
    "\n",
    "plt.title('Distribution of Race Finish Positions Changes (2021-2024)')\n",
    "plt.xlabel('Position Gain or Lost (grid - racePosition)')\n",
    "plt.ylabel('Count of Occurrences')\n",
    "\n",
    "plt.show()"
   ]
  },
  {
   "cell_type": "markdown",
   "id": "f348a9ef",
   "metadata": {},
   "source": [
    "The histogram central peak is at the range [0,1], indicating that most common outcome is drivers finishing their race in or very near their starting grid position.\n",
    "\n",
    "Also, from the distribution, we can see that large position changes (gain or lose position over 10), are rarely happened.\n",
    "\n",
    "The median of the distribution is 1.0. A positive median suggests that drivers are more likely to gain position rather than lose position."
   ]
  },
  {
   "cell_type": "code",
   "execution_count": null,
   "id": "9708a09f",
   "metadata": {},
   "outputs": [],
   "source": [
    "driver_performance = analysis_finished_df.groupby('driver')['position_change'].mean().sort_values(ascending=False).reset_index()\n",
    "\n",
    "plt.figure(figsize=(12, 10))\n",
    "sns.barplot(data=driver_performance, x='position_change', y='driver', orient='h')\n",
    "\n",
    "plt.title('Average Position Change by Driver (2021-2024)')\n",
    "plt.xlabel('Average Position Change (grid - racePosition)')\n",
    "plt.ylabel('Driver')\n",
    "\n",
    "plt.show()"
   ]
  },
  {
   "cell_type": "code",
   "execution_count": null,
   "id": "0d885d48",
   "metadata": {},
   "outputs": [],
   "source": [
    "accident_statuses = ['Collision', 'Accident', 'Spun off']\n",
    "accident_incidents = analysis_df[analysis_df['status'].isin(accident_statuses)]\n",
    "accident_counts = accident_incidents['driver'].value_counts().reset_index()\n",
    "accident_counts.columns = ['driver', 'numberOfAccidents']\n",
    "\n",
    "plt.figure(figsize=(12, 10))\n",
    "sns.barplot(data=accident_counts, x='numberOfAccidents', y='driver', orient='h')\n",
    "\n",
    "plt.title('Drivers with Most Incidents (Collision, Accident, Spun Off) in 2021-2024')\n",
    "plt.xlabel('Number of Incidents')\n",
    "plt.ylabel('Driver')\n",
    "\n",
    "plt.show()"
   ]
  },
  {
   "cell_type": "code",
   "execution_count": null,
   "id": "b885dab0",
   "metadata": {},
   "outputs": [],
   "source": [
    "circuit_get_most_accidents = accident_incidents['raceName'].value_counts().reset_index()\n",
    "circuit_get_most_accidents.columns = ['raceName', 'numberOfAccidents']\n",
    "circuit_get_most_accidents = circuit_get_most_accidents.sort_values(by='numberOfAccidents', ascending=False)\n",
    "\n",
    "plt.figure(figsize=(12, 10))\n",
    "sns.barplot(data=circuit_get_most_accidents, x='numberOfAccidents', y='raceName', orient='h')\n",
    "\n",
    "plt.title('Circuits with Most Incidents (Collision, Accident, Spun Off) in 2021-2024')\n",
    "plt.xlabel('Number of Incidents')\n",
    "plt.ylabel('Circuit (raceName)')\n",
    "\n",
    "plt.show()"
   ]
  },
  {
   "cell_type": "code",
   "execution_count": null,
   "id": "9a6ba3b4",
   "metadata": {},
   "outputs": [],
   "source": [
    "circuit_get_most_positions = analysis_finished_df.groupby('raceName')['position_change'].mean()\n",
    "circuit_get_most_positions = circuit_get_most_positions.sort_values(ascending=False)\n",
    "circuit_get_most_positions = circuit_get_most_positions.reset_index()\n",
    "\n",
    "plt.figure(figsize=(12, 10))\n",
    "sns.barplot(data=circuit_get_most_positions, x='position_change', y='raceName', orient='h')\n",
    "\n",
    "plt.title('Average Position Change by Circuit (2021-2024)')\n",
    "plt.xlabel('Average Position Change (grid - racePosition)')\n",
    "plt.ylabel('Circuit Name')\n",
    "\n",
    "plt.show()"
   ]
  },
  {
   "cell_type": "markdown",
   "id": "6c932736",
   "metadata": {},
   "source": [
    "Next, I want to investgate \"why\", and answer the questions below:\n",
    "\n",
    "1. Circuit Type: Does the type of circuit (e.g., a high-speed circuit like Monza vs. a low-speed circuit like Monaco) have a significant impact on overall position changes?\n",
    "\n",
    "2. Race Chaos: Do races with more incidents (collisions, accidents, spins) show a wider distribution of position changes?"
   ]
  },
  {
   "cell_type": "code",
   "execution_count": null,
   "id": "e626e26c",
   "metadata": {},
   "outputs": [],
   "source": [
    "circuit_map = {'Australian Grand Prix': 'High Speed',\n",
    "    'Italian Grand Prix': 'High Speed',\n",
    "    'Styrian Grand Prix': 'High Speed',\n",
    "    'Bahrain Grand Prix': 'Medium Speed',\n",
    "    'Japanese Grand Prix': 'High Speed',\n",
    "    'Abu Dhabi Grand Prix': 'Low Speed',\n",
    "    'Chinese Grand Prix': 'Medium Speed',\n",
    "    'Saudi Arabian Grand Prix': 'High Speed',\n",
    "    'Monaco Grand Prix': 'Low Speed',\n",
    "    'São Paulo Grand Prix': 'Low Speed',\n",
    "    'British Grand Prix': 'High Speed',\n",
    "    'Emilia Romagna Grand Prix': 'Medium Speed',\n",
    "    'Hungarian Grand Prix': 'Low Speed',\n",
    "    'Mexico City Grand Prix': 'Low Speed',\n",
    "    'Qatar Grand Prix': 'Medium Speed',\n",
    "    'United States Grand Prix': 'Medium Speed',\n",
    "    'Singapore Grand Prix': 'Low Speed',\n",
    "    'Azerbaijan Grand Prix': 'Medium Speed',\n",
    "    'Canadian Grand Prix': 'Medium Speed',\n",
    "    'Miami Grand Prix': 'Medium Speed',\n",
    "    'Portuguese Grand Prix': 'Medium Speed',\n",
    "    'Las Vegas Grand Prix': 'Medium Speed',\n",
    "    'French Grand Prix': 'Medium Speed',\n",
    "    'Austrian Grand Prix': 'High Speed',\n",
    "    'Spanish Grand Prix': 'Medium Speed',\n",
    "    'Turkish Grand Prix': 'Medium Speed',\n",
    "    'Belgian Grand Prix': 'High Speed',\n",
    "    'Dutch Grand Prix': 'Low Speed'\n",
    "}\n",
    "\n",
    "analysis_finished_df['circuitType'] = analysis_finished_df['raceName'].map(circuit_map)\n",
    "circuit_type_performance = analysis_finished_df.groupby('circuitType')['position_change'].mean().sort_values(ascending=False).reset_index()\n",
    "\n",
    "plt.figure(figsize=(8, 6))\n",
    "sns.barplot(data=circuit_type_performance, x='position_change', y='circuitType', orient='h')\n",
    "\n",
    "plt.title('Average Position Change by Circuit Type (2021-2024)')\n",
    "plt.xlabel('Average Position Change (grid - racePosition)')\n",
    "plt.ylabel('Circuit Type')\n",
    "\n",
    "plt.show()"
   ]
  },
  {
   "cell_type": "markdown",
   "id": "ea293862",
   "metadata": {},
   "source": [
    "High Speed circuits yield the highest position gain(~0.75);  Low Speed circuits also show high gain(~0.6); Medium Speed circuits show the lowest gain (~0.49)."
   ]
  }
 ],
 "metadata": {
  "kernelspec": {
   "display_name": "Python 3",
   "language": "python",
   "name": "python3"
  },
  "language_info": {
   "codemirror_mode": {
    "name": "ipython",
    "version": 3
   },
   "file_extension": ".py",
   "mimetype": "text/x-python",
   "name": "python",
   "nbconvert_exporter": "python",
   "pygments_lexer": "ipython3",
   "version": "3.11.9"
  }
 },
 "nbformat": 4,
 "nbformat_minor": 5
}
