{
 "cells": [
  {
   "cell_type": "code",
   "execution_count": null,
   "id": "11c43de1",
   "metadata": {},
   "outputs": [],
   "source": [
    "# F1 Qualifying Position vs. Race Finish Position Performance Analysis (2021 - 2024 Season)"
   ]
  },
  {
   "cell_type": "markdown",
   "id": "60d1b081",
   "metadata": {},
   "source": [
    "Import necessary libraries"
   ]
  },
  {
   "cell_type": "code",
   "execution_count": null,
   "id": "1f51f4c6",
   "metadata": {},
   "outputs": [],
   "source": [
    "import pandas as pd\n",
    "import numpy as np\n",
    "import requests\n",
    "import matplotlib.pyplot as plt\n",
    "import seaborn as sns\n",
    "from sklearn.model_selection import train_test_split\n",
    "from sklearn.linear_model import LinearRegression\n",
    "from sklearn.metrics import mean_squared_error"
   ]
  }
 ],
 "metadata": {
  "language_info": {
   "name": "python"
  }
 },
 "nbformat": 4,
 "nbformat_minor": 5
}
